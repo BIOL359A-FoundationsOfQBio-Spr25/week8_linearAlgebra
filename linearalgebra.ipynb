{
 "cells": [
  {
   "cell_type": "markdown",
   "metadata": {},
   "source": [
    "# Biol 359A | Familierize linear algebra\n",
    "### Spring 2025, Week 8\n",
    "Objectives:\n",
    "- "
   ]
  },
  {
   "cell_type": "code",
   "execution_count": null,
   "metadata": {},
   "outputs": [],
   "source": [
    "import numpy as np\n",
    "import matplotlib.pyplot as plt\n",
    "from scipy.integrate import solve_ivp\n",
    "from ipywidgets import (FloatSlider, Dropdown, VBox, HBox, interactive, Layout, \n",
    "                       Button, HTML, Accordion, Tab, Output)\n",
    "from IPython import display"
   ]
  }
 ],
 "metadata": {
  "kernelspec": {
   "display_name": "bio359",
   "language": "python",
   "name": "python3"
  },
  "language_info": {
   "codemirror_mode": {
    "name": "ipython",
    "version": 3
   },
   "file_extension": ".py",
   "mimetype": "text/x-python",
   "name": "python",
   "nbconvert_exporter": "python",
   "pygments_lexer": "ipython3",
   "version": "3.12.2"
  }
 },
 "nbformat": 4,
 "nbformat_minor": 2
}
