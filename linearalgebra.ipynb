{
 "cells": [
  {
   "cell_type": "markdown",
   "metadata": {},
   "source": [
    "# Biol 359A | Mastering linear algebra\n",
    "### Spring 2025, Week 8\n",
    "### Learning Objectives:\n",
    "- Construct and manipulate vectors and matrices (addition, multiplication, transpose, and inverse calculations)\n",
    "- Apply and matrix transformations (rotation, reflection, scaling) and visualize how these transformations affect shapes in 2D space\n",
    "- Calculate eigenvalues and eigenvectors of matrices\n",
    "- Analyze the stability of linear differential equation systems by analyzing eigenvalue:\n",
    "  - **All negative:** Stable (Converging to equilibrium)  \n",
    "  - **All positive:** Unstable (Diverging from equilibrium)  \n",
    "  - **Complex with imaginary components:** Oscillatory (Periodic motion)  "
   ]
  },
  {
   "cell_type": "code",
   "execution_count": null,
   "metadata": {},
   "outputs": [],
   "source": [
    "import numpy as np\n",
    "import matplotlib.pyplot as plt\n",
    "import scipy.linalg as la\n",
    "from scipy.integrate import odeint\n",
    "import seaborn as sns\n",
    "plt.style.use('seaborn-v0_8')\n",
    "sns.set_palette(\"husl\")"
   ]
  },
  {
   "cell_type": "markdown",
   "metadata": {},
   "source": [
    "## Introduce vector and matrics"
   ]
  },
  {
   "cell_type": "markdown",
   "metadata": {},
   "source": [
    "### Vectors and matrics representation in Python"
   ]
  },
  {
   "cell_type": "code",
   "execution_count": null,
   "metadata": {},
   "outputs": [],
   "source": [
    "print(\"REPRESENTING VECTORS AND MATRICES\")\n",
    "print(\"-\" * 40)\n",
    "\n",
    "# Creating vectors\n",
    "vector_2d = np.array([3, 4])\n",
    "vector_3d = np.array([1, 2, 3])\n",
    "\n",
    "print(\"2D Vector:\", vector_2d)\n",
    "print(\"3D Vector:\", vector_3d)\n",
    "print(f\"Vector magnitude (2D) of {vector_2d}:\", np.linalg.norm(vector_2d))\n",
    "\n",
    "# Creating matrices\n",
    "matrix_2x2 = np.array([[1, 2], \n",
    "                       [3, 4]])\n",
    "\n",
    "matrix_3x3 = np.array([[1, 0, 2], \n",
    "                       [0, 1, 3], \n",
    "                       [2, 1, 0]])\n",
    "\n",
    "print(\"\\n2x2 Matrix:\")\n",
    "print(matrix_2x2)\n",
    "print(\"\\n3x3 Matrix:\")\n",
    "print(matrix_3x3)"
   ]
  },
  {
   "cell_type": "markdown",
   "metadata": {},
   "source": [
    "### Visualize vectors"
   ]
  },
  {
   "cell_type": "code",
   "execution_count": null,
   "metadata": {},
   "outputs": [],
   "source": [
    "def plot_2d_vectors(vectors, labels=None, colors=None):\n",
    "    \"\"\"Plot 2D vectors starting from origin\"\"\"\n",
    "    fig, ax = plt.subplots(figsize=(6, 6))\n",
    "    \n",
    "    if colors is None:\n",
    "        colors = ['red', 'blue', 'green', 'orange', 'purple']\n",
    "    \n",
    "    for i, v in enumerate(vectors):\n",
    "        color = colors[i % len(colors)]\n",
    "        ax.quiver(0, 0, v[0], v[1], angles='xy', scale_units='xy', scale=1, \n",
    "                 color=color, width=0.005, alpha=0.8)\n",
    "        \n",
    "        # Add labels\n",
    "        if labels:\n",
    "            ax.text(v[0] + 0.1, v[1] + 0.1, labels[i], fontsize=12, color=color)\n",
    "    \n",
    "    ax.set_xlim(-1, 6)\n",
    "    ax.set_ylim(-1, 6)\n",
    "    ax.grid(True, alpha=0.3)\n",
    "    ax.set_aspect('equal')\n",
    "    ax.set_title('2D Vectors', fontsize=14, fontweight='bold')\n",
    "    ax.set_xlabel('X-axis')\n",
    "    ax.set_ylabel('Y-axis')\n",
    "    plt.show()\n",
    "vectors_to_plot = [vector_2d, np.array([2, 1]), np.array([1, 3])]\n",
    "labels = ['v1 = [3,4]', 'v2 = [2,1]', 'v3 = [1,3]']\n",
    "plot_2d_vectors(vectors_to_plot, labels)"
   ]
  },
  {
   "cell_type": "markdown",
   "metadata": {},
   "source": [
    "## Matrix transformations"
   ]
  },
  {
   "cell_type": "markdown",
   "metadata": {},
   "source": [
    "### Rotation"
   ]
  },
  {
   "cell_type": "code",
   "execution_count": null,
   "metadata": {},
   "outputs": [],
   "source": [
    "# Original points forming a simple shape (square)\n",
    "square_points = np.array([[0, 1, 1, 0, 0],   # x-coordinates\n",
    "                          [0, 0, 1, 1, 0]])   # y-coordinates\n",
    "\n",
    "def apply_transformation(matrix, points):\n",
    "    \"\"\"Apply transformation matrix to points\"\"\"\n",
    "    return matrix @ points # We use \"@\" in Python to do matrix multiplication operation\n",
    "\n",
    "def plot_transformation(original, transformed, title):\n",
    "    \"\"\"Plot original and transformed shapes\"\"\"\n",
    "    fig, (ax1, ax2) = plt.subplots(1, 2, figsize=(12, 5))\n",
    "    \n",
    "    # Original shape\n",
    "    ax1.plot(original[0], original[1], 'bo-', linewidth=2, markersize=8)\n",
    "    ax1.set_title('Original Shape', fontweight='bold')\n",
    "    ax1.grid(True, alpha=0.3)\n",
    "    ax1.set_aspect('equal')\n",
    "    ax1.set_xlim(-2, 3)\n",
    "    ax1.set_ylim(-2, 3)\n",
    "    \n",
    "    # Transformed shape\n",
    "    ax2.plot(transformed[0], transformed[1], 'ro-', linewidth=2, markersize=8, label=\"transformed points\")\n",
    "    ax2.plot(original[0], original[1], 'bo-', alpha=0.3, linewidth=1, label=\"original points\")\n",
    "    ax2.set_title(f'After {title}', fontweight='bold')\n",
    "    ax2.grid(True, alpha=0.3)\n",
    "    ax2.set_aspect('equal')\n",
    "    ax2.set_xlim(-2, 3)\n",
    "    ax2.set_ylim(-2, 3)\n",
    "    ax2.legend()\n",
    "    plt.tight_layout()\n",
    "    plt.show()\n",
    "\n",
    "# Rotation matrix (45 degrees counterclockwise)\n",
    "angle = np.pi / 4  # 45 degrees in radians\n",
    "rotation_matrix = np.array([[np.cos(angle), -np.sin(angle)],\n",
    "                           [np.sin(angle),  np.cos(angle)]])\n",
    "\n",
    "print(\"Rotation Matrix (45° CCW):\")\n",
    "print(rotation_matrix)\n",
    "\n",
    "rotated_square = apply_transformation(rotation_matrix, square_points)\n",
    "plot_transformation(square_points, rotated_square, 'Rotation (45°)')"
   ]
  },
  {
   "cell_type": "markdown",
   "metadata": {},
   "source": [
    "### Flip"
   ]
  },
  {
   "cell_type": "code",
   "execution_count": null,
   "metadata": {},
   "outputs": [],
   "source": [
    "# Reflection matrix (flip across y-axis)\n",
    "reflection_matrix = np.array([[-1, 0],\n",
    "                             [ 0, 1]])\n",
    "\n",
    "print(\"\\nReflection Matrix (across y-axis):\")\n",
    "print(reflection_matrix)\n",
    "\n",
    "reflected_square = apply_transformation(reflection_matrix, square_points)\n",
    "plot_transformation(square_points, reflected_square, 'Reflection (y-axis)')"
   ]
  },
  {
   "cell_type": "markdown",
   "metadata": {},
   "source": [
    "### Scaling"
   ]
  },
  {
   "cell_type": "code",
   "execution_count": null,
   "metadata": {},
   "outputs": [],
   "source": [
    "# Scaling matrix\n",
    "scaling_matrix = np.array([[2, 0],\n",
    "                          [0, 0.5]])\n",
    "\n",
    "print(\"\\nScaling Matrix (2x in x, 0.5x in y):\")\n",
    "print(scaling_matrix)\n",
    "\n",
    "scaled_square = apply_transformation(scaling_matrix, square_points)\n",
    "plot_transformation(square_points, scaled_square, 'Scaling')"
   ]
  },
  {
   "cell_type": "markdown",
   "metadata": {},
   "source": [
    "## Eigenvalues and eigenvectors"
   ]
  },
  {
   "cell_type": "markdown",
   "metadata": {},
   "source": [
    "### Example calculations"
   ]
  },
  {
   "cell_type": "code",
   "execution_count": null,
   "metadata": {},
   "outputs": [],
   "source": [
    "# Example matrix\n",
    "M = np.array([[3, 1], [0, 2]])\n",
    "print(\"Matrix M:\")\n",
    "print(M)\n",
    "\n",
    "# Calculate eigenvalues and eigenvectors\n",
    "eigenvalues, eigenvectors = np.linalg.eig(M)\n",
    "\n",
    "print(f\"\\nEigenvalues: {eigenvalues}\")\n",
    "print(f\"Eigenvectors:\\n{eigenvectors}\\n\")\n",
    "\n",
    "# Verification: M × v = λ × v\n",
    "print(\"=\" * 10, \"Validate the eigenvalue/eigenvector\", \"=\" * 10)\n",
    "for i in range(len(eigenvalues)):\n",
    "    v = eigenvectors[:, i]\n",
    "    lambda_val = eigenvalues[i]\n",
    "    \n",
    "    left_side = M @ v\n",
    "    right_side = lambda_val * v\n",
    "    \n",
    "    print(f\"\\nFor eigenvalue λ{i+1} = {lambda_val:.3f}:\")\n",
    "    print(f\"M × v{i+1} = {left_side}\")\n",
    "    print(f\"λ{i+1} × v{i+1} = {right_side}\")\n",
    "    print(f\"Equal? {np.allclose(left_side, right_side)}\")"
   ]
  },
  {
   "cell_type": "markdown",
   "metadata": {},
   "source": [
    "### Visualize eigenvectors"
   ]
  },
  {
   "cell_type": "code",
   "execution_count": null,
   "metadata": {},
   "outputs": [],
   "source": [
    "# Visualizing eigenvectors\n",
    "def plot_eigenvectors(matrix, eigenvals, eigenvecs):\n",
    "    \"\"\"Visualize eigenvectors and their transformations\"\"\"\n",
    "    fig, ax = plt.subplots(figsize=(6, 5))\n",
    "    for i in range(len(eigenvals)):\n",
    "        v = eigenvecs[:, i]\n",
    "        lambda_val = eigenvals[i]\n",
    "        # Transformed eigenvector (M × v = λ × v)\n",
    "        transformed = matrix @ v\n",
    "        ax.quiver(0, 0, transformed[0], transformed[1], angles='xy',\n",
    "                 scale_units='xy', scale=1, color=f'C{i}', width=0.008,\n",
    "                 label=f'M×v{i+1} = {lambda_val:.2f}×v{i+1}')\n",
    "        # Original eigenvector\n",
    "        ax.quiver(0, 0, v[0], v[1], angles='xy', scale_units='xy', scale=1,\n",
    "                 color='k', width=0.005, alpha=0.7,\n",
    "                 label=f'v{i+1} (eigenvector)')\n",
    "        # Add labels to the eigenvectors\n",
    "        ax.text(v[0]/2, v[1]/2, f'v{i+1}', fontsize=12, color='k', ha='center', va='center')\n",
    "\n",
    "    \n",
    "    ax.set_xlim(-4, 4)\n",
    "    ax.set_ylim(-4, 4)\n",
    "    ax.grid(True, alpha=0.3)\n",
    "    ax.set_aspect('equal')\n",
    "    ax.legend(bbox_to_anchor=(1.05, 1), loc='upper left')\n",
    "    ax.set_title('Eigenvectors: Special directions preserved by transformation',\n",
    "                fontweight='bold')\n",
    "    plt.tight_layout()\n",
    "    plt.show()\n",
    "\n",
    "plot_eigenvectors(M, eigenvalues, eigenvectors)"
   ]
  },
  {
   "cell_type": "markdown",
   "metadata": {},
   "source": [
    "## System of linear differential equations: dx/dt = A*x"
   ]
  },
  {
   "cell_type": "code",
   "execution_count": null,
   "metadata": {},
   "outputs": [],
   "source": [
    "def solve_linear_system(A, x0, t_span, title):\n",
    "    \"\"\"Solve dx/dt = A*x and plot the solution\"\"\"\n",
    "    \n",
    "    def system(x, t):\n",
    "        return A @ x\n",
    "    \n",
    "    t = np.linspace(0, t_span, 1000)\n",
    "    sol = odeint(system, x0, t)\n",
    "    eigenvals = np.linalg.eig(A)[0]\n",
    "    print(f\"Eigenvalues: {eigenvals}\")\n",
    "    \n",
    "    # Create plots\n",
    "    fig, ax = plt.subplots(1, 1, figsize=(8, 4))\n",
    "    \n",
    "    # Time series plot\n",
    "    ax.plot(t, sol[:, 0], label='$x_1(t)$', linewidth=2)\n",
    "    ax.plot(t, sol[:, 1], label='$x_2(t)$', linewidth=2)\n",
    "    ax.set_xlabel('Time')\n",
    "    ax.set_ylabel('State variables')\n",
    "    ax.legend()\n",
    "    ax.grid(True, alpha=0.3)\n",
    "    \n",
    "    eigenvals_str = np.array2string(eigenvals, precision=2, separator=', ')\n",
    "    plt.suptitle(f'Linear System: dx/dt = A·x\\nEigenvalues: {eigenvals_str}', \n",
    "                    fontsize=14, fontweight='bold')\n",
    "    plt.show()\n",
    "    \n",
    "    return eigenvals\n",
    "x0 = np.array([2, 1])"
   ]
  },
  {
   "cell_type": "markdown",
   "metadata": {},
   "source": [
    "### Stable"
   ]
  },
  {
   "cell_type": "code",
   "execution_count": null,
   "metadata": {},
   "outputs": [],
   "source": [
    "A = np.array([[-2, -1],\n",
    "              [-1, -3]])\n",
    "print(\"Stable Node (Sink), e.g., cooling of a hot object in a room following Newton's Law of Cooling.\")\n",
    "print(\"Matrix A:\")\n",
    "print(A)\n",
    "eigenvals1 = solve_linear_system(A, x0, 3, \"Unstable Node\")"
   ]
  },
  {
   "cell_type": "markdown",
   "metadata": {},
   "source": [
    "### Unstable"
   ]
  },
  {
   "cell_type": "code",
   "execution_count": null,
   "metadata": {},
   "outputs": [],
   "source": [
    "A = np.array([[1, 0.5], \n",
    "               [0, 2]])\n",
    "\n",
    "print(\"UNSTABLE NODE (exponential growth)\")\n",
    "print(\"Matrix A:\")\n",
    "print(A)\n",
    "eigenvals2 = solve_linear_system(A, x0, 3, \"Unstable Node\")"
   ]
  },
  {
   "cell_type": "markdown",
   "metadata": {},
   "source": [
    "### Oscillatory"
   ]
  },
  {
   "cell_type": "code",
   "execution_count": null,
   "metadata": {},
   "outputs": [],
   "source": [
    "A = np.array([[-0.5, -2], \n",
    "               [ 2, -0.5]])\n",
    "\n",
    "print(\"Damped spring-mass system)\")\n",
    "print(\"Matrix A:\")\n",
    "print(A)\n",
    "eigenvals3 = solve_linear_system(A, x0, 10, \"Damped spring-mass system\")"
   ]
  },
  {
   "cell_type": "code",
   "execution_count": null,
   "metadata": {},
   "outputs": [],
   "source": [
    "A = np.array([[0, -1], \n",
    "               [1,  0]])\n",
    "\n",
    "print(\"CENTER (pure oscillation, like a frictionless pendulum)\")\n",
    "print(\"Matrix A:\")\n",
    "print(A)\n",
    "eigenvals4 = solve_linear_system(A, x0, 10, \"Center (Pure Oscillation)\")"
   ]
  },
  {
   "cell_type": "markdown",
   "metadata": {},
   "source": [
    "### Reference material - matrices operation in python"
   ]
  },
  {
   "cell_type": "code",
   "execution_count": null,
   "metadata": {},
   "outputs": [],
   "source": [
    "# Matrix operations\n",
    "A = np.array([[2, 1], [1, 3]])\n",
    "B = np.array([[1, 2], [0, 1]])\n",
    "\n",
    "print(\"Matrix A:\")\n",
    "print(A)\n",
    "print(\"\\nMatrix B:\")\n",
    "print(B)\n",
    "print(\"=\" * 50)\n",
    "# Addition\n",
    "print(\"\\nA + B =\")\n",
    "print(A + B)\n",
    "\n",
    "# Multiplication\n",
    "print(\"\\nA × B =\")\n",
    "print(A @ B)\n",
    "\n",
    "# Transpose\n",
    "print(\"\\nA^T (transpose of A) =\")\n",
    "print(A.T)\n",
    "\n",
    "# Determinant\n",
    "print(f\"\\ndet(A) = {np.linalg.det(A):.3f}\")\n",
    "print(f\"det(B) = {np.linalg.det(B):.3f}\")\n",
    "\n",
    "# Inverse\n",
    "try:\n",
    "    A_inv = np.linalg.inv(A)\n",
    "    print(\"\\nA^(-1) (inverse of A) =\")\n",
    "    print(A_inv)\n",
    "    \n",
    "    # Verify: A × A^(-1) = I\n",
    "    print(\"\\nVerification A × A^(-1) =\")\n",
    "    print(A @ A_inv)\n",
    "except np.linalg.LinAlgError:\n",
    "    print(\"\\nA is not invertible (singular matrix)\")\n",
    "\n",
    "# Matrix rank\n",
    "print(f\"\\nRank of A: {np.linalg.matrix_rank(A)}\")\n",
    "print(f\"Rank of B: {np.linalg.matrix_rank(B)}\")"
   ]
  },
  {
   "cell_type": "markdown",
   "metadata": {},
   "source": []
  }
 ],
 "metadata": {
  "kernelspec": {
   "display_name": "bio359",
   "language": "python",
   "name": "python3"
  },
  "language_info": {
   "codemirror_mode": {
    "name": "ipython",
    "version": 3
   },
   "file_extension": ".py",
   "mimetype": "text/x-python",
   "name": "python",
   "nbconvert_exporter": "python",
   "pygments_lexer": "ipython3",
   "version": "3.12.2"
  }
 },
 "nbformat": 4,
 "nbformat_minor": 2
}
